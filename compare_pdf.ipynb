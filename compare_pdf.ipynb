{
 "cells": [
  {
   "cell_type": "markdown",
   "metadata": {},
   "source": [
    "# PDF Analysen"
   ]
  },
  {
   "cell_type": "code",
   "execution_count": 55,
   "metadata": {},
   "outputs": [],
   "source": [
    "import os\n",
    "from pathlib import Path\n",
    "import pandas as pd\n",
    "import numpy as np\n",
    "import pickle"
   ]
  },
  {
   "cell_type": "markdown",
   "metadata": {},
   "source": [
    "### Lade die Daten vom Pickle (DataFrame)\n",
    "- comp_pdf.pickle von compare_pdf_all.py erstellt\n",
    "- vergleich von der .json mit dem auslesbaren Teil aus der PDF\n",
    "- PDF_compare ist eine List mit True oder dem abweichenden Text -> abweichender Text == False"
   ]
  },
  {
   "cell_type": "code",
   "execution_count": 56,
   "metadata": {},
   "outputs": [],
   "source": [
    "pickle_path = \"./data/pickle_jar/\"\n",
    "\n",
    "with open(pickle_path + \"comp_pdf.pickle\",\"rb\") as file:\n",
    "    df = pickle.load(file)"
   ]
  },
  {
   "cell_type": "markdown",
   "metadata": {},
   "source": [
    "DataFrame anpassen"
   ]
  },
  {
   "cell_type": "code",
   "execution_count": 57,
   "metadata": {},
   "outputs": [
    {
     "data": {
      "text/html": [
       "<div>\n",
       "<style scoped>\n",
       "    .dataframe tbody tr th:only-of-type {\n",
       "        vertical-align: middle;\n",
       "    }\n",
       "\n",
       "    .dataframe tbody tr th {\n",
       "        vertical-align: top;\n",
       "    }\n",
       "\n",
       "    .dataframe thead th {\n",
       "        text-align: right;\n",
       "    }\n",
       "</style>\n",
       "<table border=\"1\" class=\"dataframe\">\n",
       "  <thead>\n",
       "    <tr style=\"text-align: right;\">\n",
       "      <th></th>\n",
       "      <th>id</th>\n",
       "      <th>PDF_compare</th>\n",
       "    </tr>\n",
       "    <tr>\n",
       "      <th>file_url</th>\n",
       "      <th></th>\n",
       "      <th></th>\n",
       "    </tr>\n",
       "  </thead>\n",
       "  <tbody>\n",
       "    <tr>\n",
       "      <th>gmbl-ausgabe-1956-5.pdf</th>\n",
       "      <td>240723</td>\n",
       "      <td>[True, True, True, True, True, True, True, Tru...</td>\n",
       "    </tr>\n",
       "    <tr>\n",
       "      <th>gmbl-ausgabe-1968-31.pdf</th>\n",
       "      <td>240724</td>\n",
       "      <td>[]</td>\n",
       "    </tr>\n",
       "    <tr>\n",
       "      <th>gmbl-ausgabe-2019-59.pdf</th>\n",
       "      <td>240725</td>\n",
       "      <td>[True, True, True, True, True, True, True, Tru...</td>\n",
       "    </tr>\n",
       "    <tr>\n",
       "      <th>gmbl-ausgabe-1997-12.pdf</th>\n",
       "      <td>240726</td>\n",
       "      <td>[True, True, True, True, True, True, True, Tru...</td>\n",
       "    </tr>\n",
       "    <tr>\n",
       "      <th>gmbl-ausgabe-2018-31.pdf</th>\n",
       "      <td>240727</td>\n",
       "      <td>[True, True, True, True, True, True, True, Tru...</td>\n",
       "    </tr>\n",
       "  </tbody>\n",
       "</table>\n",
       "</div>"
      ],
      "text/plain": [
       "                              id  \\\n",
       "file_url                           \n",
       "gmbl-ausgabe-1956-5.pdf   240723   \n",
       "gmbl-ausgabe-1968-31.pdf  240724   \n",
       "gmbl-ausgabe-2019-59.pdf  240725   \n",
       "gmbl-ausgabe-1997-12.pdf  240726   \n",
       "gmbl-ausgabe-2018-31.pdf  240727   \n",
       "\n",
       "                                                                PDF_compare  \n",
       "file_url                                                                     \n",
       "gmbl-ausgabe-1956-5.pdf   [True, True, True, True, True, True, True, Tru...  \n",
       "gmbl-ausgabe-1968-31.pdf                                                 []  \n",
       "gmbl-ausgabe-2019-59.pdf  [True, True, True, True, True, True, True, Tru...  \n",
       "gmbl-ausgabe-1997-12.pdf  [True, True, True, True, True, True, True, Tru...  \n",
       "gmbl-ausgabe-2018-31.pdf  [True, True, True, True, True, True, True, Tru...  "
      ]
     },
     "execution_count": 57,
     "metadata": {},
     "output_type": "execute_result"
    }
   ],
   "source": [
    "df.set_index('file_url',inplace=True)\n",
    "\n",
    "df.head(5)"
   ]
  },
  {
   "cell_type": "markdown",
   "metadata": {},
   "source": [
    "PDF_compare2 im Format True or False umwandeln, Summe und ratio = Richtig / Gesammt bilden."
   ]
  },
  {
   "cell_type": "code",
   "execution_count": 58,
   "metadata": {},
   "outputs": [
    {
     "data": {
      "text/html": [
       "<div>\n",
       "<style scoped>\n",
       "    .dataframe tbody tr th:only-of-type {\n",
       "        vertical-align: middle;\n",
       "    }\n",
       "\n",
       "    .dataframe tbody tr th {\n",
       "        vertical-align: top;\n",
       "    }\n",
       "\n",
       "    .dataframe thead th {\n",
       "        text-align: right;\n",
       "    }\n",
       "</style>\n",
       "<table border=\"1\" class=\"dataframe\">\n",
       "  <thead>\n",
       "    <tr style=\"text-align: right;\">\n",
       "      <th></th>\n",
       "      <th>id</th>\n",
       "      <th>PDF_compare</th>\n",
       "      <th>PDF_compare2</th>\n",
       "      <th>sum</th>\n",
       "      <th>len</th>\n",
       "      <th>ratio</th>\n",
       "    </tr>\n",
       "    <tr>\n",
       "      <th>file_url</th>\n",
       "      <th></th>\n",
       "      <th></th>\n",
       "      <th></th>\n",
       "      <th></th>\n",
       "      <th></th>\n",
       "      <th></th>\n",
       "    </tr>\n",
       "  </thead>\n",
       "  <tbody>\n",
       "    <tr>\n",
       "      <th>gmbl-ausgabe-1956-5.pdf</th>\n",
       "      <td>240723</td>\n",
       "      <td>[True, True, True, True, True, True, True, Tru...</td>\n",
       "      <td>[True, True, True, True, True, True, True, Tru...</td>\n",
       "      <td>928.0</td>\n",
       "      <td>932</td>\n",
       "      <td>0.995708</td>\n",
       "    </tr>\n",
       "    <tr>\n",
       "      <th>gmbl-ausgabe-1968-31.pdf</th>\n",
       "      <td>240724</td>\n",
       "      <td>[]</td>\n",
       "      <td>[]</td>\n",
       "      <td>0.0</td>\n",
       "      <td>0</td>\n",
       "      <td>NaN</td>\n",
       "    </tr>\n",
       "    <tr>\n",
       "      <th>gmbl-ausgabe-2019-59.pdf</th>\n",
       "      <td>240725</td>\n",
       "      <td>[True, True, True, True, True, True, True, Tru...</td>\n",
       "      <td>[True, True, True, True, True, True, True, Tru...</td>\n",
       "      <td>2281.0</td>\n",
       "      <td>2365</td>\n",
       "      <td>0.964482</td>\n",
       "    </tr>\n",
       "    <tr>\n",
       "      <th>gmbl-ausgabe-1997-12.pdf</th>\n",
       "      <td>240726</td>\n",
       "      <td>[True, True, True, True, True, True, True, Tru...</td>\n",
       "      <td>[True, True, True, True, True, True, True, Tru...</td>\n",
       "      <td>1429.0</td>\n",
       "      <td>1432</td>\n",
       "      <td>0.997905</td>\n",
       "    </tr>\n",
       "    <tr>\n",
       "      <th>gmbl-ausgabe-2018-31.pdf</th>\n",
       "      <td>240727</td>\n",
       "      <td>[True, True, True, True, True, True, True, Tru...</td>\n",
       "      <td>[True, True, True, True, True, True, True, Tru...</td>\n",
       "      <td>884.0</td>\n",
       "      <td>888</td>\n",
       "      <td>0.995495</td>\n",
       "    </tr>\n",
       "  </tbody>\n",
       "</table>\n",
       "</div>"
      ],
      "text/plain": [
       "                              id  \\\n",
       "file_url                           \n",
       "gmbl-ausgabe-1956-5.pdf   240723   \n",
       "gmbl-ausgabe-1968-31.pdf  240724   \n",
       "gmbl-ausgabe-2019-59.pdf  240725   \n",
       "gmbl-ausgabe-1997-12.pdf  240726   \n",
       "gmbl-ausgabe-2018-31.pdf  240727   \n",
       "\n",
       "                                                                PDF_compare  \\\n",
       "file_url                                                                      \n",
       "gmbl-ausgabe-1956-5.pdf   [True, True, True, True, True, True, True, Tru...   \n",
       "gmbl-ausgabe-1968-31.pdf                                                 []   \n",
       "gmbl-ausgabe-2019-59.pdf  [True, True, True, True, True, True, True, Tru...   \n",
       "gmbl-ausgabe-1997-12.pdf  [True, True, True, True, True, True, True, Tru...   \n",
       "gmbl-ausgabe-2018-31.pdf  [True, True, True, True, True, True, True, Tru...   \n",
       "\n",
       "                                                               PDF_compare2  \\\n",
       "file_url                                                                      \n",
       "gmbl-ausgabe-1956-5.pdf   [True, True, True, True, True, True, True, Tru...   \n",
       "gmbl-ausgabe-1968-31.pdf                                                 []   \n",
       "gmbl-ausgabe-2019-59.pdf  [True, True, True, True, True, True, True, Tru...   \n",
       "gmbl-ausgabe-1997-12.pdf  [True, True, True, True, True, True, True, Tru...   \n",
       "gmbl-ausgabe-2018-31.pdf  [True, True, True, True, True, True, True, Tru...   \n",
       "\n",
       "                             sum   len     ratio  \n",
       "file_url                                          \n",
       "gmbl-ausgabe-1956-5.pdf    928.0   932  0.995708  \n",
       "gmbl-ausgabe-1968-31.pdf     0.0     0       NaN  \n",
       "gmbl-ausgabe-2019-59.pdf  2281.0  2365  0.964482  \n",
       "gmbl-ausgabe-1997-12.pdf  1429.0  1432  0.997905  \n",
       "gmbl-ausgabe-2018-31.pdf   884.0   888  0.995495  "
      ]
     },
     "execution_count": 58,
     "metadata": {},
     "output_type": "execute_result"
    }
   ],
   "source": [
    "df[\"PDF_compare2\"] = df[\"PDF_compare\"].apply(lambda x: [y == True for y in x])\n",
    "df[\"sum\"] = df[\"PDF_compare2\"].apply(np.sum)\n",
    "df[\"len\"] = df[\"PDF_compare2\"].apply(len)\n",
    "df[\"ratio\"] = df[\"sum\"] / df[\"len\"]\n",
    "\n",
    "df.head(5)"
   ]
  },
  {
   "cell_type": "markdown",
   "metadata": {},
   "source": [
    "Die Ratio (z.B. 0.9957), sagt aus, dass 99,57% der getesteten Text-Blöcke übereinstimmen. Umgekehrt heißt dies lediglich, dass in den restlichen Text-Blöcken mindestens ein Buchstabe anders ist."
   ]
  },
  {
   "cell_type": "markdown",
   "metadata": {},
   "source": [
    "Anzahl der Ausgaben, bei denen compare_pdf_all.py nicht funktioniert hat. Fehler in den PDFs, die ein Auslesen allgemein, oder mit dem verwendeten Tool verhindert haben."
   ]
  },
  {
   "cell_type": "code",
   "execution_count": 59,
   "metadata": {},
   "outputs": [
    {
     "name": "stdout",
     "output_type": "stream",
     "text": [
      "(2713, 6)\n",
      "1054\n",
      "Anzahl NA in ratio Spalte\n"
     ]
    }
   ],
   "source": [
    "print(df.shape)\n",
    "\n",
    "print(df[\"ratio\"].isna().sum())\n",
    "print(\"Anzahl NA in ratio Spalte\")"
   ]
  },
  {
   "cell_type": "code",
   "execution_count": 60,
   "metadata": {},
   "outputs": [],
   "source": [
    "show_na_ratio = df[\"ratio\"]"
   ]
  },
  {
   "cell_type": "markdown",
   "metadata": {},
   "source": [
    "Stichprobe zur Kontrolle"
   ]
  },
  {
   "cell_type": "code",
   "execution_count": 61,
   "metadata": {},
   "outputs": [
    {
     "data": {
      "text/plain": [
       "id                                                         242941\n",
       "PDF_compare     [True, True, True, True, True, True, True, Tru...\n",
       "PDF_compare2    [True, True, True, True, True, True, True, Tru...\n",
       "sum                                                        6584.0\n",
       "len                                                          6593\n",
       "ratio                                                    0.998635\n",
       "Name: gmbl-ausgabe-1950-1.pdf, dtype: object"
      ]
     },
     "execution_count": 61,
     "metadata": {},
     "output_type": "execute_result"
    }
   ],
   "source": [
    "df.loc[\"gmbl-ausgabe-1950-1.pdf\"]"
   ]
  },
  {
   "cell_type": "markdown",
   "metadata": {},
   "source": [
    "Entfernen der Nan um den DataFrame klein zu halten."
   ]
  },
  {
   "cell_type": "code",
   "execution_count": 62,
   "metadata": {},
   "outputs": [
    {
     "data": {
      "text/plain": [
       "(1659, 6)"
      ]
     },
     "execution_count": 62,
     "metadata": {},
     "output_type": "execute_result"
    }
   ],
   "source": [
    "df.dropna(axis=0, inplace=True)\n",
    "df.shape"
   ]
  },
  {
   "cell_type": "markdown",
   "metadata": {},
   "source": [
    "etwas mehr Daten Analyse, auch zur Vorbereitung für unten."
   ]
  },
  {
   "cell_type": "code",
   "execution_count": 63,
   "metadata": {},
   "outputs": [
    {
     "data": {
      "text/plain": [
       "(1659, 18)"
      ]
     },
     "execution_count": 63,
     "metadata": {},
     "output_type": "execute_result"
    }
   ],
   "source": [
    "df[\"PDF_compare3\"] = df[\"PDF_compare\"] \n",
    "df[\"PDF_compare4\"] = df[\"PDF_compare3\"].apply(lambda x: [y == True for y in x])\n",
    "df[\"PDF_compare5\"] = df[\"PDF_compare3\"].apply(lambda x: [y for y in x if y !=True]) # Liste von falscher Text ohne True\n",
    "df[\"error_len\"] = df[\"PDF_compare5\"].apply(len) # Anzahl Error bzw. falscher Text\n",
    "df[\"error_ele_len\"] = df[\"PDF_compare5\"].apply(lambda x: [len(y) for y in x if y])\n",
    "df[\"error_ele_len_max\"] = df[\"error_ele_len\"][(df[\"error_len\"] > 0)].apply(max)\n",
    "df[\"error_ele_len_min\"] = df[\"error_ele_len\"][(df[\"error_len\"] > 0)].apply(min)\n",
    "df[\"error_ele_len_mean\"] = df[\"error_ele_len\"][(df[\"error_len\"] > 0)].apply(np.mean)\n",
    "df['Year'] = [int(i.split('-')[2]) for i in df.index]\n",
    "\n",
    "df[\"sum2\"] = df[\"PDF_compare4\"].apply(np.sum)\n",
    "df[\"len2\"] = df[\"PDF_compare4\"].apply(len)\n",
    "df[\"ratio2\"] = df[\"sum2\"] / df[\"len2\"]\n",
    "\n",
    "df.shape"
   ]
  },
  {
   "cell_type": "code",
   "execution_count": 64,
   "metadata": {},
   "outputs": [
    {
     "data": {
      "text/plain": [
       "['(1}DerBetroffenesollvorErlaßderVerfügungge-',\n",
       " 'NachdieserUebersichtistderdurch5chniü;i}cheﬂAnie:a%',\n",
       " 'diesemDurchschnittliegenbeidenBeamtendasBundes»«',\n",
       " 'wesen,dasBundesministeriumfürAngelegenheitender',\n",
       " 'Vertriebenen,dasBundesministeriumfürg:gesamte:ieu.i*s{_cha',\n",
       " 'dasBundesministeriumderJustiz,',\n",
       " '—DirektionArbeit—',\n",
       " ';920241',\n",
       " 'Wiesbaden,Beriramstr.3']"
      ]
     },
     "execution_count": 64,
     "metadata": {},
     "output_type": "execute_result"
    }
   ],
   "source": [
    "df.loc[\"gmbl-ausgabe-1950-1.pdf\"][\"PDF_compare5\"]"
   ]
  },
  {
   "cell_type": "markdown",
   "metadata": {},
   "source": [
    "Beispiele der vorkommenden Fehlern, OCR und Kodierungsfehler."
   ]
  },
  {
   "cell_type": "code",
   "execution_count": 65,
   "metadata": {},
   "outputs": [],
   "source": [
    "show_error_text = df[\"PDF_compare5\"]"
   ]
  },
  {
   "cell_type": "markdown",
   "metadata": {},
   "source": [
    "Okay was ist das?"
   ]
  },
  {
   "cell_type": "code",
   "execution_count": 66,
   "metadata": {},
   "outputs": [
    {
     "data": {
      "text/plain": [
       "id                                                               241255\n",
       "PDF_compare           [True, True, True, True, desBeauftragtenderBun...\n",
       "PDF_compare2          [True, True, True, True, False, False, False, ...\n",
       "sum                                                              1424.0\n",
       "len                                                                2576\n",
       "ratio                                                          0.552795\n",
       "PDF_compare3          [True, True, True, True, desBeauftragtenderBun...\n",
       "PDF_compare4          [True, True, True, True, False, False, False, ...\n",
       "PDF_compare5          [desBeauftragtenderBundesregierungf(cid:1)rKul...\n",
       "error_len                                                          1152\n",
       "error_ele_len         [57, 89, 115, 105, 118, 81, 73, 54, 58, 62, 67...\n",
       "error_ele_len_max                                                 118.0\n",
       "error_ele_len_min                                                  12.0\n",
       "error_ele_len_mean                                            48.128472\n",
       "Year                                                               2005\n",
       "sum2                                                               1424\n",
       "len2                                                               2576\n",
       "ratio2                                                         0.552795\n",
       "Name: gmbl-ausgabe-2005-63.pdf, dtype: object"
      ]
     },
     "execution_count": 66,
     "metadata": {},
     "output_type": "execute_result"
    }
   ],
   "source": [
    "df.loc[\"gmbl-ausgabe-2005-63.pdf\"]"
   ]
  },
  {
   "cell_type": "markdown",
   "metadata": {},
   "source": [
    "Etwas detailierter"
   ]
  },
  {
   "cell_type": "code",
   "execution_count": 67,
   "metadata": {},
   "outputs": [
    {
     "data": {
      "text/plain": [
       "['desBeauftragtenderBundesregierungf(cid:1)rKulturundMedien',\n",
       " 'desAusw(cid:2)rtigenAmtes/desBundesministeriumsdesInnern/desBundesministeriumsderFinanzen',\n",
       " 'desBundesministeriumsf(cid:1)rWirtschaftundTechnologie/desBundesministeriumsf(cid:1)rErn(cid:2)hrung,Landwirtschaft',\n",
       " 'undVerbraucherschutz/desBundesministeriumsf(cid:1)rFamilie,Senioren,FrauenundJugend/desBundesministeriums',\n",
       " 'f(cid:1)rGesundheit/desBundesministeriumsf(cid:1)rVerkehr,BauundStadtentwicklung/desBundesministeriumsf(cid:1)rUmwelt,',\n",
       " 'NaturschutzundReaktorsicherheit/desBundesministeriumsf(cid:1)rBildungundForschung',\n",
       " 'desBundesministeriumsf(cid:1)rwirtschaftlicheZusammenarbeitundEntwicklung',\n",
       " 'Programmv.28.9.05desBMIzurF(cid:1)rderungdesLeistungs-',\n",
       " 'Richtlinienv.10.10.05desBMI(cid:2)berdieGew(cid:3)hrungvon',\n",
       " 'ZuwendungenzurF(cid:1)rderungvonBundessportfachverb(cid:3)nden',\n",
       " '(F(cid:1)rderrichtlinienVerb(cid:3)nde–FRV)....................1276',\n",
       " 'Richtlinienv.10.10.05desBMI(cid:2)berdieGew(cid:3)hrungvon',\n",
       " 'ZuwendungenzurF(cid:1)rderungdesSt(cid:2)tzpunktsystems(F(cid:1)r-',\n",
       " 'derrichtlinienSt(cid:2)tzpunktsystem–FRS).................1280',\n",
       " 'Richtlinienv.10.10.05desBMI(cid:2)berdieGew(cid:3)hrungvon',\n",
       " 'ZuwendungenzurF(cid:1)rderungvonSportakademiensowie',\n",
       " 'desSports(F(cid:1)rderrichtlinienAkademien/Maßnahmen–FR',\n",
       " 'Richtlinienv.10.10.05desBMI(cid:2)berdieGew(cid:3)hrungvon',\n",
       " 'ZuwendungenzurF(cid:1)rderungvonBaumaßnahmenf(cid:2)rden',\n",
       " 'Spitzensport(F(cid:1)rderrichtlinienSportst(cid:3)ttenbau–FRBau)..1286',\n",
       " 'zurF(cid:1)rderungdesLeistungssportssowiesonstiger',\n",
       " '*Ausdruckf(cid:2)rLeistungsbereitschaftundLeistungs-',\n",
       " 'willen,f(cid:2)rFairnessundAchtungdesAnderensind',\n",
       " 'undsomitWertevermitteln,dief(cid:2)rdiegesell-',\n",
       " 'AGrunds(cid:2)tzederLeistungssportf(cid:1)rderung',\n",
       " 'unterschiedlichenL(cid:3)ndern,V(cid:1)lkern,ethnischen',\n",
       " 'GruppenundReligionenerm(cid:1)glichenunddamit',\n",
       " 'gegenseitigenVerst(cid:3)ndnisleistensowie',\n",
       " '1.Subsidiarit(cid:3)tsprinzip',\n",
       " '5.Dopingbek(cid:3)mpfung']"
      ]
     },
     "execution_count": 67,
     "metadata": {},
     "output_type": "execute_result"
    }
   ],
   "source": [
    "df.loc[\"gmbl-ausgabe-2005-63.pdf\"][\"PDF_compare5\"][:30]"
   ]
  },
  {
   "cell_type": "markdown",
   "metadata": {},
   "source": [
    "gmbl-ausgabe-2005-63.pdf Diese Ausgabe, hat verschiedene Codierungen für Umlaute.\n",
    "\n",
    "f(cid:1)r == für\n",
    "\n",
    "F(cid:1)rderrichtlinien == Förderrichtlinien\n",
    "\n",
    "Verschiedene PDF Viewer erkennen mehr oder weniger davon richtig."
   ]
  },
  {
   "cell_type": "markdown",
   "metadata": {},
   "source": [
    "### Mein kleiner Fix\n",
    "Diese Codierung kann richtig angezeit werden, entsprechend wird dieser Fehler von False zu True geändert."
   ]
  },
  {
   "cell_type": "code",
   "execution_count": 68,
   "metadata": {},
   "outputs": [],
   "source": [
    "def fix_cid(list_pdf_com):\n",
    "    a= []\n",
    "    for i in list_pdf_com:\n",
    "        if type(i) == str and \"(cid:\" in i:\n",
    "            a.append(True)\n",
    "        else:\n",
    "            a.append(i)\n",
    "    return a"
   ]
  },
  {
   "cell_type": "code",
   "execution_count": 69,
   "metadata": {},
   "outputs": [
    {
     "data": {
      "text/plain": [
       "(1659, 18)"
      ]
     },
     "execution_count": 69,
     "metadata": {},
     "output_type": "execute_result"
    }
   ],
   "source": [
    "df[\"PDF_compare3\"] = df[\"PDF_compare\"].map(fix_cid)\n",
    "df[\"PDF_compare4\"] = df[\"PDF_compare3\"].apply(lambda x: [y == True for y in x])\n",
    "df[\"PDF_compare5\"] = df[\"PDF_compare3\"].apply(lambda x: [y for y in x if y !=True])\n",
    "df[\"error_len\"] = df[\"PDF_compare5\"].apply(len)\n",
    "df[\"error_ele_len\"] = df[\"PDF_compare5\"].apply(lambda x: [len(y) for y in x if y])\n",
    "df[\"error_ele_len_max\"] = df[\"error_ele_len\"][(df[\"error_len\"] > 0)].apply(max)\n",
    "df[\"error_ele_len_min\"] = df[\"error_ele_len\"][(df[\"error_len\"] > 0)].apply(min)\n",
    "df[\"error_ele_len_mean\"] = df[\"error_ele_len\"][(df[\"error_len\"] > 0)].apply(np.mean)\n",
    "df['Year'] = [int(i.split('-')[2]) for i in df.index]\n",
    "\n",
    "df[\"sum2\"] = df[\"PDF_compare4\"].apply(np.sum)\n",
    "df[\"len2\"] = df[\"PDF_compare4\"].apply(len)\n",
    "df[\"ratio2\"] = df[\"sum2\"] / df[\"len2\"]\n",
    "\n",
    "df.shape"
   ]
  },
  {
   "cell_type": "code",
   "execution_count": 70,
   "metadata": {},
   "outputs": [],
   "source": [
    "show_ratios = df[[\"ratio\", \"ratio2\"]]"
   ]
  },
  {
   "cell_type": "code",
   "execution_count": 71,
   "metadata": {},
   "outputs": [
    {
     "name": "stdout",
     "output_type": "stream",
     "text": [
      "Summe 100% richtig, ratio\n",
      "559.0\n",
      "Summe 100% richtig, ratio2\n",
      "673.0\n"
     ]
    },
    {
     "data": {
      "text/plain": [
       "(1659, 18)"
      ]
     },
     "execution_count": 71,
     "metadata": {},
     "output_type": "execute_result"
    }
   ],
   "source": [
    "print(\"Summe 100% richtig, ratio\")\n",
    "print(df[\"ratio\"][df[\"ratio\"] == 1].sum())\n",
    "print(\"Summe 100% richtig, ratio2\")\n",
    "print(df[\"ratio2\"][df[\"ratio2\"] == 1].sum())\n",
    "df.shape"
   ]
  },
  {
   "cell_type": "markdown",
   "metadata": {},
   "source": [
    "Diese Korrektur hat Fehler korrigiert, die je nach PDF Viewer richtig angezeigt werden. z.B. Adobe, Chrome, Edge, Firefox"
   ]
  },
  {
   "cell_type": "markdown",
   "metadata": {},
   "source": [
    "Suche nach PDFs mit Text der nicht markierbar ist, aber in der PDF hinterlegt sind.\n",
    "Diese kann bei verschiedenen PDF Viewer unteschiedlich sein."
   ]
  },
  {
   "cell_type": "markdown",
   "metadata": {},
   "source": [
    "PDFs von 2003 bis 2023\n",
    "- Reduktion auf die letzten 21 Jahre, da alles davor, mittels OCR gemacht wurde und die oben reduzierten compare_pdf_all.py fehler hauptsächlich von vor 2003 sind. Der Untersuchte Datensatz wird dadurch konsistenter. Außerdem ist Inhaltlich das meiste nicht mehr aktuell. "
   ]
  },
  {
   "cell_type": "code",
   "execution_count": 72,
   "metadata": {},
   "outputs": [
    {
     "name": "stdout",
     "output_type": "stream",
     "text": [
      "fehlerfreie PDF\n",
      "132\n",
      "fehlerfrei nach 'cid:'-Platzhalter Korrektur\n",
      "199\n",
      "von insgesammt:\n"
     ]
    },
    {
     "data": {
      "text/plain": [
       "824"
      ]
     },
     "execution_count": 72,
     "metadata": {},
     "output_type": "execute_result"
    }
   ],
   "source": [
    "print(\"fehlerfreie PDF\")\n",
    "print(((df[\"Year\"] > 2002) & (df[\"ratio\"] == 1)).sum())\n",
    "\n",
    "print(\"fehlerfrei nach 'cid:'-Platzhalter Korrektur\")\n",
    "print(((df[\"Year\"] > 2002) & (df[\"ratio2\"] == 1)).sum())\n",
    "\n",
    "print(\"von insgesammt:\")\n",
    "df[\"ratio\"][df[\"Year\"] > 2002].count()"
   ]
  },
  {
   "cell_type": "markdown",
   "metadata": {},
   "source": [
    "Suche nach PDFs die Textblöcke haben, die höchstwahrscheinlich von dem meisten PDF Viewern, nicht markiert werden können."
   ]
  },
  {
   "cell_type": "code",
   "execution_count": 73,
   "metadata": {},
   "outputs": [],
   "source": [
    "big_error = df[[\"error_len\", \"PDF_compare5\"]][(df[\"error_len\"] > 7) \n",
    "                                            & (df[\"error_ele_len_max\"] > 40) \n",
    "                                            & (df[\"error_ele_len_mean\"] > 19) \n",
    "                                            & (df[\"Year\"] > 2002)]"
   ]
  },
  {
   "cell_type": "code",
   "execution_count": 74,
   "metadata": {},
   "outputs": [
    {
     "data": {
      "text/plain": [
       "<Axes: title={'center': 'Fehler und Anzahl pro Jahr'}, xlabel='Jahr', ylabel='Ausgaben'>"
      ]
     },
     "execution_count": 74,
     "metadata": {},
     "output_type": "execute_result"
    },
    {
     "data": {
      "image/png": "[encoded data removed]",
      "text/plain": [
       "<Figure size 640x480 with 1 Axes>"
      ]
     },
     "metadata": {},
     "output_type": "display_data"
    }
   ],
   "source": [
    "df[\"plotme\"] = (df[\"error_len\"] > 7) & (df[\"error_ele_len_max\"] > 40) & (df[\"error_ele_len_mean\"] > 19) & (df[\"Year\"] > 2002)\n",
    "df[df[\"Year\"] > 2002].groupby(\"Year\")[\"plotme\"].sum().plot(ylabel= \"Ausgaben\", xlabel=\"Jahr\", legend= \"True\", title= \"Fehler und Anzahl pro Jahr\", label=\"Fehler\")\n",
    "df[df[\"Year\"] > 2002].groupby(\"Year\")[\"plotme\"].count().plot(label=\"Anzahl\", xlabel=\"Jahr\", legend= \"True\")"
   ]
  },
  {
   "cell_type": "markdown",
   "metadata": {},
   "source": [
    "### Hat um 2010 das Innenministerium angefangen selbst PDFs zu erstellen?\n",
    "Die Sichtung einzelner PDFs und die unregelmäßig vorhandenen Metadaten geben Hinweise darauf, wie die PDFs erstellt wurden. Die PDFs werden aus mehreren Quellen zusammengefügt. Faktoren sind verschiedene Ministerien, verschiedene Abteilungen, die auch wissenschaftliche und technische Abhandlungen einfügen, und verschiedene Programme zur PDF-Erstellung verwenden. So kommt es vor, dass in einer Ausgabe verschiedene cid-Kodierungen, verschiedenen UTF-8- bzw. ASCII-UTF-8-Kodierungen für den gleichen Umlaut vorkommen. Obwohl meist um die 10 verschiedene Schriftarten benutzt werden, kommen laut Tools bis zu 1600 verschiedene *Schrifttypen* vor. Normal, Fett, Kursiv, Fett und Kursiv, sind bereits 4 verschiedene Typen, sowie jede Schriftgröße eine eigene. Die verschiedenen Tools, wie Print-to-PDF, kodieren die PDF unterschiedlich. Die Vielzahl dieser Probleme führen zu den oben geschilderten Fehlern, die -nochmals betont- von verschiedenen PDF-Viewern unterschiedlich vorkommen.\n",
    "\n",
    "Bemerkung zum Abschluss: Der Viewer der ursprünglichen PDF-Entwickler, Adobe, hat dabei meistens sehr schlecht abgeschnitten. "
   ]
  }
 ],
 "metadata": {
  "kernelspec": {
   "display_name": "Python 3 (ipykernel)",
   "language": "python",
   "name": "python3"
  },
  "language_info": {
   "codemirror_mode": {
    "name": "ipython",
    "version": 3
   },
   "file_extension": ".py",
   "mimetype": "text/x-python",
   "name": "python",
   "nbconvert_exporter": "python",
   "pygments_lexer": "ipython3",
   "version": "3.9.18"
  }
 },
 "nbformat": 4,
 "nbformat_minor": 4
}
